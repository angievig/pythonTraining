{
  "nbformat": 4,
  "nbformat_minor": 0,
  "metadata": {
    "colab": {
      "provenance": [],
      "authorship_tag": "ABX9TyPA4oG8joiaYTbtQdSd/5je",
      "include_colab_link": true
    },
    "kernelspec": {
      "name": "python3",
      "display_name": "Python 3"
    },
    "language_info": {
      "name": "python"
    }
  },
  "cells": [
    {
      "cell_type": "markdown",
      "metadata": {
        "id": "view-in-github",
        "colab_type": "text"
      },
      "source": [
        "<a href=\"https://colab.research.google.com/github/angievig/pythonTraining/blob/main/BasicDatatypes.ipynb\" target=\"_parent\"><img src=\"https://colab.research.google.com/assets/colab-badge.svg\" alt=\"Open In Colab\"/></a>"
      ]
    },
    {
      "cell_type": "markdown",
      "source": [
        "# Basic Data Types\n",
        "This is the next section in the set of challenges this section has a problem related with, let's say, each of the commomnly used built-in data structures in Python.  the following is a summary produced by ChatGPT.\n",
        "\n",
        "\n",
        "*   **Lists:** A list is an ordered collection of items that can be of different data types. You can add, remove, or modify elements in a list, and you can access individual elements by their index.\n",
        "*   **Tuples:** Tuples are similar to lists, but they are immutable, meaning that their contents cannot be changed once they are created. Tuples are often used to store related pieces of information that should not be modified.\n",
        "*  **Sets:** Sets are an unordered collection of unique elements. They can be used to perform set operations such as union, intersection, and difference\n",
        "*  **Dictionaries:** Dictionaries are an unordered collection of key-value pairs. You can use a dictionary to store and retrieve data using a key rather than an index.\n",
        "\n",
        "The following are the solved problems"
      ],
      "metadata": {
        "id": "XBZOxwDd8lQu"
      }
    },
    {
      "cell_type": "markdown",
      "source": [
        "## List Comprehensions"
      ],
      "metadata": {
        "id": "5KFi2_jZ9-yE"
      }
    },
    {
      "cell_type": "markdown",
      "source": [
        "## Finding the percentage\n",
        "This problem presents the data in the form of a Dictionary containing pairs of names and lists of numbers with grades.  You should calculate the average of each student\n",
        "These are the documentation sources about dictionaries \n",
        "* Python's oficial documentation [link ](https://docs.python.org/3/tutorial/datastructures.html#dictionaries)\n",
        "*  Dictionaries, a quick read [link](https://www.w3schools.com/python/python_dictionaries.asp)\n",
        "\n",
        "Also, this problem needs some list's functions for being solved quickly, i.e, to sum all the elements in the list. The documentation:\n",
        "*  https://www.geeksforgeeks.org/sum-function-python/\n",
        "\n",
        "Finally, it was neccesary to format the output to produce a number with two decimal places.\n",
        "*. StackOverflow answer [link](https://stackoverflow.com/questions/1995615/how-can-i-format-a-decimal-to-always-show-2-decimal-places)\n",
        "\n",
        "To test the code, try this test case, feed line by line:\n",
        "\n",
        "3\n",
        "\n",
        "Krishna 67 68 69\n",
        "\n",
        "Arjun 70 98 63\n",
        "\n",
        "Malika 52 56 60\n",
        "\n",
        "Malika\n",
        "\n"
      ],
      "metadata": {
        "id": "L8slZaol-IdS"
      }
    },
    {
      "cell_type": "code",
      "source": [
        "if __name__ == '__main__':\n",
        "    n = int(input())\n",
        "    student_marks = {}\n",
        "    for _ in range(n):\n",
        "        name, *line = input().split()\n",
        "        scores = list(map(float, line))\n",
        "        student_marks[name] = scores\n",
        "    query_name = input()\n",
        "    # to obtain the list of the name in the input (key, value)\n",
        "    list= student_marks[query_name]\n",
        "    # to calculate the average of the numbers in the list and print them with two decimal places\n",
        "    print(\"%0.2f\" %(sum(list) /len(list)))"
      ],
      "metadata": {
        "colab": {
          "base_uri": "https://localhost:8080/"
        },
        "id": "i4q9bFzt_7iu",
        "outputId": "434574c4-4d19-43c0-c187-b29214ea288e"
      },
      "execution_count": 1,
      "outputs": [
        {
          "output_type": "stream",
          "name": "stdout",
          "text": [
            "3\n",
            "Krishna 67 68 69\n",
            "Arjun 70 98 63\n",
            "Malika 52 56 60\n",
            "Malika\n",
            "56.00\n"
          ]
        }
      ]
    }
  ]
}